{
 "cells": [
  {
   "cell_type": "code",
   "execution_count": 2,
   "metadata": {},
   "outputs": [],
   "source": [
    "import os\n",
    "from collections import OrderedDict\n",
    "\n",
    "import matplotlib.pyplot as plt\n",
    "import numpy as np\n",
    "import pandas as pd\n",
    "import plotly.express as px\n",
    "import plotly.graph_objects as go\n",
    "from plotly.subplots import make_subplots\n",
    "from findpeaks import findpeaks\n",
    "from scipy.signal import get_window\n",
    "from skimage.filters import median\n",
    "from skimage.morphology import square\n",
    "from skimage.transform import resize\n",
    "from statsmodels.api import OLS, add_constant"
   ]
  },
  {
   "cell_type": "markdown",
   "metadata": {},
   "source": [
    "\n",
    "# Experiment: Modified v1 One-Shot"
   ]
  },
  {
   "cell_type": "markdown",
   "metadata": {},
   "source": [
    "## Objective\n",
    "The goal of this experiment is to analyze an image from the Modified v1 One-Shot experiment and fit a mathematical function to the data.\n"
   ]
  },
  {
   "cell_type": "markdown",
   "metadata": {},
   "source": [
    "\n",
    "## Workflow\n",
    "1. **Load the Image**  \n",
    "    Import the image from the Modified v1 One-Shot experiment for analysis.\n",
    "\n",
    "2. **Preprocess the Image**  \n",
    "    - Convert the image to grayscale (if necessary).  \n",
    "    - Normalize the pixel values.  \n",
    "    - Extract relevant data points for fitting.\n",
    "\n",
    "3. **Define the Function**  \n",
    "    Choose a mathematical function (e.g., linear, polynomial, Gaussian) to fit the data.\n",
    "\n",
    "4. **Fit the Function**  \n",
    "    - Use curve fitting techniques (e.g., `scipy.optimize.curve_fit`) to fit the function to the data.  \n",
    "    - Evaluate the goodness of fit using metrics like R-squared.\n",
    "\n",
    "5. **Visualize the Results**  \n",
    "    - Plot the original data points.  \n",
    "    - Overlay the fitted function for comparison.\n",
    "\n",
    "6. **Analyze and Interpret**  \n",
    "    - Discuss the results of the fit.  \n",
    "    - Highlight any patterns or anomalies observed.\n"
   ]
  },
  {
   "cell_type": "markdown",
   "metadata": {},
   "source": [
    "\n",
    "## Next Steps\n",
    "- Refine the fitting process if necessary.  \n",
    "- Explore alternative functions for better accuracy.  \n",
    "- Document findings and prepare for further experiments."
   ]
  },
  {
   "cell_type": "code",
   "execution_count": null,
   "metadata": {},
   "outputs": [],
   "source": [
    "def apply_normalization(pattern):\n",
    "        pattern_normalized = (pattern - pattern.min()) / (pattern.max() - pattern.min())\n",
    "        return pattern_normalized.astype(np.float32)"
   ]
  },
  {
   "cell_type": "code",
   "execution_count": null,
   "metadata": {},
   "outputs": [],
   "source": [
    "def apply_median_blur(pattern, kernel_size=5):\n",
    "    # TODO: Optimize this implementation, rather slow for kernel size = 25 pixels\n",
    "    #       Options:\n",
    "    #       1. Swap for Gaussian blur\n",
    "    #       2. Operate on uint images with optimized rank or OpenCV2 implementation\n",
    "    #\n",
    "    #       Note: I prefer to keep consistency (i.e. only use scikit-image as backend)\n",
    "    square_kernel = square(kernel_size)\n",
    "    blurred_pattern = median(pattern, square_kernel)\n",
    "    return blurred_pattern"
   ]
  }
 ],
 "metadata": {
  "kernelspec": {
   "display_name": ".venv",
   "language": "python",
   "name": "python3"
  },
  "language_info": {
   "codemirror_mode": {
    "name": "ipython",
    "version": 3
   },
   "file_extension": ".py",
   "mimetype": "text/x-python",
   "name": "python",
   "nbconvert_exporter": "python",
   "pygments_lexer": "ipython3",
   "version": "3.12.7"
  }
 },
 "nbformat": 4,
 "nbformat_minor": 2
}
